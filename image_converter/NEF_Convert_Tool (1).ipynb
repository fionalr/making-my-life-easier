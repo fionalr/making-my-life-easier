{
 "cells": [
  {
   "cell_type": "code",
   "execution_count": 4,
   "id": "697809db",
   "metadata": {},
   "outputs": [
    {
     "name": "stdout",
     "output_type": "stream",
     "text": [
      "Successfully converted DSC_0107.NEF to JPEG and saved to C:/Users/fiona/Downloads/Fire_Dataset_1\\DSC_0107.jpg\n",
      "Successfully converted DSC_0108.NEF to JPEG and saved to C:/Users/fiona/Downloads/Fire_Dataset_1\\DSC_0108.jpg\n",
      "Successfully converted DSC_0109.NEF to JPEG and saved to C:/Users/fiona/Downloads/Fire_Dataset_1\\DSC_0109.jpg\n"
     ]
    },
    {
     "ename": "KeyboardInterrupt",
     "evalue": "",
     "output_type": "error",
     "traceback": [
      "\u001b[1;31m---------------------------------------------------------------------------\u001b[0m",
      "\u001b[1;31mKeyboardInterrupt\u001b[0m                         Traceback (most recent call last)",
      "Cell \u001b[1;32mIn [4], line 23\u001b[0m\n\u001b[0;32m     21\u001b[0m \u001b[38;5;66;03m# Processing the NEF file\u001b[39;00m\n\u001b[0;32m     22\u001b[0m \u001b[38;5;28;01mwith\u001b[39;00m rawpy\u001b[38;5;241m.\u001b[39mimread(full_nef_path) \u001b[38;5;28;01mas\u001b[39;00m raw:\n\u001b[1;32m---> 23\u001b[0m     rgb \u001b[38;5;241m=\u001b[39m raw\u001b[38;5;241m.\u001b[39mpostprocess()\n\u001b[0;32m     25\u001b[0m \u001b[38;5;66;03m# Saving the image as JPEG\u001b[39;00m\n\u001b[0;32m     26\u001b[0m imageio\u001b[38;5;241m.\u001b[39mimwrite(full_jpeg_path, rgb)\n",
      "\u001b[1;31mKeyboardInterrupt\u001b[0m: "
     ]
    }
   ],
   "source": [
    "\"\"\"Wrote this program because I couldn't find a good online converter for free and I'm a hustler like dat.\"\"\"\n",
    "import rawpy\n",
    "import imageio\n",
    "import os\n",
    "\n",
    "# Defining the folder containing the .nef files\n",
    "nef_folder = 'C:/Users/fiona/Downloads/uploadimages1'\n",
    "jpeg_folder = 'C:/Users/fiona/Downloads/Fire_Dataset_1'\n",
    "\n",
    "# Checking if JPEG folder exists, if not creating it\n",
    "if not os.path.exists(jpeg_folder):\n",
    "    os.makedirs(jpeg_folder)\n",
    "\n",
    "# Iterating over each file in the folder\n",
    "for filename in os.listdir(nef_folder):\n",
    "    if filename.lower().endswith('.nef'):\n",
    "        # Constructing full file path for the NEF and JPEG files\n",
    "        full_nef_path = os.path.join(nef_folder, filename)\n",
    "        full_jpeg_path = os.path.join(jpeg_folder, os.path.splitext(filename)[0] + '.jpg')\n",
    "        \n",
    "        # Processing the NEF file\n",
    "        with rawpy.imread(full_nef_path) as raw:\n",
    "            rgb = raw.postprocess()\n",
    "        \n",
    "        # Saving the image as JPEG\n",
    "        imageio.imwrite(full_jpeg_path, rgb)\n",
    "        print(f\"Successfully converted {filename} to JPEG and saved to {full_jpeg_path}\")"
   ]
  },
  {
   "cell_type": "code",
   "execution_count": null,
   "id": "a6e151c7",
   "metadata": {},
   "outputs": [],
   "source": []
  }
 ],
 "metadata": {
  "kernelspec": {
   "display_name": "Python 3 (ipykernel)",
   "language": "python",
   "name": "python3"
  },
  "language_info": {
   "codemirror_mode": {
    "name": "ipython",
    "version": 3
   },
   "file_extension": ".py",
   "mimetype": "text/x-python",
   "name": "python",
   "nbconvert_exporter": "python",
   "pygments_lexer": "ipython3",
   "version": "3.9.2"
  }
 },
 "nbformat": 4,
 "nbformat_minor": 5
}
